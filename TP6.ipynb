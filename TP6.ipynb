{
 "cells": [
  {
   "cell_type": "code",
   "execution_count": 10,
   "metadata": {},
   "outputs": [
    {
     "name": "stdout",
     "output_type": "stream",
     "text": [
      "7.501500076001311e+22\n",
      "98019899.49751785\n"
     ]
    }
   ],
   "source": [
    "import numpy as np\n",
    "import math\n",
    "\n",
    "# Exercice 1 : méthode des rectangles\n",
    "\n",
    "def integral(f, a, b, n):\n",
    "    integral = 0\n",
    "    k=a;\n",
    "    while(k < b):\n",
    "        larg = (b-a)/n\n",
    "        haut = f(a + k*(b-a)/n)\n",
    "        aire = larg * haut\n",
    "        integral += aire\n",
    "        k+=n\n",
    " \n",
    "    return integral\n",
    "#Tester avec la fonction sur l'interval 0,10 avec un pas de 0.001\n",
    "f = lambda x : 3*x**3 + 2*x - 1\n",
    "print(integral(f,0,10,0.001))\n",
    "\n",
    "#question 4\n",
    "g = lambda x : math.cos(1/x)\n",
    "print(integral(g,0.1,10,0.001)) "
   ]
  },
  {
   "cell_type": "code",
   "execution_count": 25,
   "metadata": {},
   "outputs": [
    {
     "data": {
      "text/plain": [
       "(8.999909928015299e-06, 10001)"
      ]
     },
     "execution_count": 25,
     "metadata": {},
     "output_type": "execute_result"
    }
   ],
   "source": [
    "#toujours exo1 question 2\n",
    "#Quelle valeur de n faut-il choisir pour être précis à 10^{-4} près ? Ecrire la fonction qui permette de calculer cette valeur\n",
    "def integrale_precise(f, a, b, n0, precision):\n",
    "    val = integrale(f, a, b, n0)\n",
    "    val0 = None\n",
    "    while val0 is None or abs(val - val0) / val0 > precision:\n",
    "        val0 = val\n",
    "        n0 += 1\n",
    "        val = integrale(f, a, b, n0)\n",
    "    return val, n0\n",
    "\n",
    "integrale_precise(lambda x: x, 0.1, 1, 10, 1e-4)"
   ]
  },
  {
   "cell_type": "code",
   "execution_count": 32,
   "metadata": {},
   "outputs": [],
   "source": [
    "#autre methode pour faire la question 1 de l'exercice 1\n",
    "def calcul_dx (a, b, n):\n",
    "    return (b-a)/float(n)\n",
    "\n",
    "def f(x):\n",
    "    return 3*x**2\n",
    "\n",
    "def integrale (f, a, b, n):\n",
    "    Total=0\n",
    "    dx=calcul_dx (a, b, n)\n",
    "    for i in range(1,n+1):\n",
    "        fi=f(a+i*(dx))\n",
    "        Total=Total+fi\n",
    "    integral=Total*dx\n",
    "    return(integral)"
   ]
  },
  {
   "cell_type": "code",
   "execution_count": null,
   "metadata": {},
   "outputs": [],
   "source": [
    "#integrale numerique \n",
    "import numpy as np\n",
    "x= Symbol('x')\n",
    "def f(x):\n",
    "    return x**2+x\n",
    "\n",
    "n=10\n",
    "a=0\n",
    "b=1\n",
    "integral_real=integrate(x**2+x, (x,a,b))\n",
    "higherror=True\n",
    "step=100\n",
    "                        \n",
    "while (higherror):\n",
    "    integral_num=integrale(f,0,1,n)\n",
    "    if np.abs(integral_num-integral_real)<10**-4:\n",
    "        higherror=False\n",
    "    n=n+step\n",
    "print(n)"
   ]
  },
  {
   "cell_type": "code",
   "execution_count": null,
   "metadata": {},
   "outputs": [],
   "source": [
    "#exercice 2\n",
    "#question 1\n",
    "def trapezes(f, a, b, N):\n",
    "    pas = (b-a) / N\n",
    "    x = a\n",
    "    somme = (f(a) + f(b)) / 2\n",
    "    \n",
    "for _ in range(N-1):\n",
    "    x += pas\n",
    "    somme += f(x)\n",
    "return somme / N\n",
    "trapezes(lambda x: x**2, 0, 1, 100)"
   ]
  },
  {
   "cell_type": "code",
   "execution_count": null,
   "metadata": {},
   "outputs": [],
   "source": []
  }
 ],
 "metadata": {
  "kernelspec": {
   "display_name": "Python 3",
   "language": "python",
   "name": "python3"
  },
  "language_info": {
   "codemirror_mode": {
    "name": "ipython",
    "version": 3
   },
   "file_extension": ".py",
   "mimetype": "text/x-python",
   "name": "python",
   "nbconvert_exporter": "python",
   "pygments_lexer": "ipython3",
   "version": "3.8.3"
  }
 },
 "nbformat": 4,
 "nbformat_minor": 4
}
